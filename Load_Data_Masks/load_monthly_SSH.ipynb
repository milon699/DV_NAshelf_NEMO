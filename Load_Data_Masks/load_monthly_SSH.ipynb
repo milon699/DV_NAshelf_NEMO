{
 "cells": [
  {
   "cell_type": "code",
   "execution_count": 3,
   "id": "b8772a83",
   "metadata": {},
   "outputs": [],
   "source": [
    "#Import Packages\n",
    "\n",
    "import xarray as xr\n",
    "import matplotlib.pyplot as plt\n",
    "import numpy as np \n"
   ]
  },
  {
   "cell_type": "code",
   "execution_count": 4,
   "id": "b4722a0e",
   "metadata": {},
   "outputs": [
    {
     "name": "stderr",
     "output_type": "stream",
     "text": [
      "/home/milon.miah/miniconda3/lib/python3.9/site-packages/xarray/core/indexing.py:1227: PerformanceWarning: Slicing is producing a large chunk. To accept the large\n",
      "chunk and silence this warning, set the option\n",
      "    >>> with dask.config.set(**{'array.slicing.split_large_chunks': False}):\n",
      "    ...     array[indexer]\n",
      "\n",
      "To avoid creating the large chunks, set the option\n",
      "    >>> with dask.config.set(**{'array.slicing.split_large_chunks': True}):\n",
      "    ...     array[indexer]\n",
      "  return self.array[key]\n"
     ]
    }
   ],
   "source": [
    "#Load data from vortex directory\n",
    "vortex_path = '/vortex/clidex/data/NEMO/VIKING20X/SSH/'\n",
    "fname_prefix = '1_VIKING20X.L46-KFS003_1d_'\n",
    "fname_suffix = '_45W_80W_30N_57N.nc'\n",
    "ds_ssh = xr.open_mfdataset(vortex_path + fname_prefix + '*_zeromean' + fname_suffix)\n",
    "\n",
    "#Cut off land mass\n",
    "ds_ssh = ds_ssh.where(ds_ssh != 0.0)\n",
    "\n",
    "#Throw out data and compromise to monthly data\n",
    "#Create time series to chunk data for monthly data\n",
    "time_series = np.arange(ds_ssh.time_counter[0].to_numpy(), ds_ssh.time_counter[-1].to_numpy(), np.timedelta64(1, 'M'),\n",
    "                        dtype='datetime64[M]').astype('datetime64[D]')\n",
    "ds_ssh = ds_ssh.groupby_bins('time_counter', time_series, right = False).mean(dim = 'time_counter')\n",
    "\n",
    "#Format time series back to original form\n",
    "time_series = np.delete(time_series, -1)\n",
    "ds_ssh['time_counter_bins'] = time_series\n",
    "ds_ssh.rename\n",
    "\n",
    "#Throw out time dimension in lat/lon\n",
    "ds_ssh['nav_lat'] = ds_ssh['nav_lat'][0]\n",
    "ds_ssh['nav_lon'] = ds_ssh['nav_lon'][0]\n",
    "\n",
    "ds_ssh = ds_ssh.rename({'time_counter_bins': 'time_counter'})\n",
    "\n",
    "#Save file in new cdf file\n",
    "\n",
    "ds_ssh.to_netcdf('/mnt/data/SSH/ssh_monthly.nc')"
   ]
  }
 ],
 "metadata": {
  "kernelspec": {
   "display_name": "Python 3 (ipykernel)",
   "language": "python",
   "name": "python3"
  },
  "language_info": {
   "codemirror_mode": {
    "name": "ipython",
    "version": 3
   },
   "file_extension": ".py",
   "mimetype": "text/x-python",
   "name": "python",
   "nbconvert_exporter": "python",
   "pygments_lexer": "ipython3",
   "version": "3.9.13"
  }
 },
 "nbformat": 4,
 "nbformat_minor": 5
}
